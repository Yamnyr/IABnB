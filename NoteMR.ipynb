{
 "cells": [
  {
   "cell_type": "markdown",
   "id": "9f083af0",
   "metadata": {},
   "source": [
    "Voici un guide étape par étape pour créer une application web complète qui affiche et prédit les prix des logements Airbnb. Nous allons utiliser Python (Flask) pour le backend et le frontend (React) que je vous ai fourni précédemment."
   ]
  },
  {
   "cell_type": "markdown",
   "id": "34250254",
   "metadata": {},
   "source": [
    "\n",
    "Étape 1 : Configuration de l’environnement\n",
    "Installer les outils nécessaires :\n",
    "\n",
    "Python 3.x\n",
    "\n",
    "Node.js (pour React)\n",
    "\n",
    "pip (Python package manager)\n",
    "\n"
   ]
  },
  {
   "cell_type": "markdown",
   "id": "544005d2",
   "metadata": {},
   "source": [
    "Installer les bibliothèques Python :"
   ]
  },
  {
   "cell_type": "code",
   "execution_count": null,
   "id": "e83819d3",
   "metadata": {
    "vscode": {
     "languageId": "plaintext"
    }
   },
   "outputs": [],
   "source": [
    "pip install flask flask-cors scikit-learn pandas"
   ]
  },
  {
   "cell_type": "markdown",
   "id": "1b0b75f1",
   "metadata": {},
   "source": [
    "Créer la structure de projet :"
   ]
  },
  {
   "cell_type": "code",
   "execution_count": null,
   "id": "09fda5ae",
   "metadata": {
    "vscode": {
     "languageId": "plaintext"
    }
   },
   "outputs": [],
   "source": [
    "project/\n",
    "├── backend/\n",
    "│   ├── app.py\n",
    "│   ├── model.pkl\n",
    "├── frontend/\n",
    "│   ├── public/\n",
    "│   ├── src/\n",
    "│   │   ├── components/\n",
    "│   │   │   ├── AirbnbPricePrediction.js\n",
    "│   │   ├── App.js\n",
    "│   │   ├── index.js\n",
    "├── README.md"
   ]
  },
  {
   "cell_type": "markdown",
   "id": "dc719053",
   "metadata": {},
   "source": [
    "Étape 2 : Créer le Backend avec Flask\n",
    "Fichier : backend/app.py\n",
    "Ce script gère la logique pour prédire les prix."
   ]
  },
  {
   "cell_type": "code",
   "execution_count": null,
   "id": "e92cfa58",
   "metadata": {
    "vscode": {
     "languageId": "plaintext"
    }
   },
   "outputs": [],
   "source": [
    "from flask import Flask, request, jsonify\n",
    "from flask_cors import CORS\n",
    "import pandas as pd\n",
    "import pickle\n",
    "\n",
    "app = Flask(__name__)\n",
    "CORS(app)\n",
    "\n",
    "# Charger le modèle\n",
    "try:\n",
    "    with open(\"model.pkl\", \"rb\") as f:\n",
    "        model = pickle.load(f)\n",
    "except FileNotFoundError:\n",
    "    model = None\n",
    "\n",
    "@app.route(\"/predict\", methods=[\"POST\"])\n",
    "def predict():\n",
    "    data = request.json\n",
    "    location = data.get(\"location\", \"\")\n",
    "    size = data.get(\"size\", 0)\n",
    "    bedrooms = data.get(\"bedrooms\", 0)\n",
    "    amenities = data.get(\"amenities\", \"\").split(\",\")\n",
    "    \n",
    "    # Convertir les données en format modèle\n",
    "    size = float(size)\n",
    "    bedrooms = int(bedrooms)\n",
    "    amenities_count = len(amenities)\n",
    "    \n",
    "    # Simple mock model logic (replace with real model prediction)\n",
    "    price = 50 + size * 10 + bedrooms * 20 + amenities_count * 5\n",
    "\n",
    "    return jsonify({\"predicted_price\": price})\n",
    "\n",
    "if __name__ == \"__main__\":\n",
    "    app.run(debug=True)\n"
   ]
  },
  {
   "cell_type": "markdown",
   "id": "85069731",
   "metadata": {},
   "source": [
    "Étape 3 : Modèle de machine learning (facultatif)\n",
    "Si vous avez un modèle entraîné pour prédire les prix, vous pouvez le charger à partir d’un fichier model.pkl et remplacer la logique dans /predict par une prédiction réelle."
   ]
  },
  {
   "cell_type": "markdown",
   "id": "7dbfb0dc",
   "metadata": {},
   "source": [
    "Code pour entraîner un modèle simple :"
   ]
  },
  {
   "cell_type": "code",
   "execution_count": null,
   "id": "2d6d77dc",
   "metadata": {
    "vscode": {
     "languageId": "plaintext"
    }
   },
   "outputs": [],
   "source": [
    "import pickle\n",
    "from sklearn.linear_model import LinearRegression\n",
    "import pandas as pd\n",
    "\n",
    "# Exemple de données d'entraînement\n",
    "data = pd.DataFrame({\n",
    "    \"size\": [500, 700, 900],\n",
    "    \"bedrooms\": [1, 2, 3],\n",
    "    \"amenities_count\": [5, 8, 10],\n",
    "    \"price\": [100, 150, 200],\n",
    "})\n",
    "\n",
    "X = data[[\"size\", \"bedrooms\", \"amenities_count\"]]\n",
    "y = data[\"price\"]\n",
    "\n",
    "model = LinearRegression()\n",
    "model.fit(X, y)\n",
    "\n",
    "# Sauvegarder le modèle\n",
    "with open(\"model.pkl\", \"wb\") as f:\n",
    "    pickle.dump(model, f)"
   ]
  },
  {
   "cell_type": "markdown",
   "id": "336928d2",
   "metadata": {},
   "source": [
    "Étape 4 : Connecter le Backend et le Frontend\n",
    "Modifier le fichier React pour envoyer des requêtes :"
   ]
  },
  {
   "cell_type": "markdown",
   "id": "1b582bc6",
   "metadata": {},
   "source": [
    "Dans AirbnbPricePrediction.js, ajoutez l’appel à l’API Flask :"
   ]
  },
  {
   "cell_type": "code",
   "execution_count": null,
   "id": "633e35bd",
   "metadata": {
    "vscode": {
     "languageId": "plaintext"
    }
   },
   "outputs": [],
   "source": [
    "\n",
    "const predictPrice = async () => {\n",
    "    const response = await fetch(\"http://127.0.0.1:5000/predict\", {\n",
    "        method: \"POST\",\n",
    "        headers: {\n",
    "            \"Content-Type\": \"application/json\",\n",
    "        },\n",
    "        body: JSON.stringify({\n",
    "            location: formData.location,\n",
    "            size: formData.size,\n",
    "            bedrooms: formData.bedrooms,\n",
    "            amenities: formData.amenities,\n",
    "        }),\n",
    "    });\n",
    "    const data = await response.json();\n",
    "    setFormData((prev) => ({\n",
    "        ...prev,\n",
    "        predictedPrice: `$${data.predicted_price.toFixed(2)}`,\n",
    "    }));\n",
    "};"
   ]
  },
  {
   "cell_type": "markdown",
   "id": "ada60686",
   "metadata": {},
   "source": [
    "Démarrer le serveur Flask :"
   ]
  },
  {
   "cell_type": "code",
   "execution_count": null,
   "id": "82029288",
   "metadata": {
    "vscode": {
     "languageId": "plaintext"
    }
   },
   "outputs": [],
   "source": [
    "cd backend\n",
    "python app.py"
   ]
  },
  {
   "cell_type": "markdown",
   "id": "4ad3313a",
   "metadata": {},
   "source": [
    "Démarrer le serveur React :"
   ]
  },
  {
   "cell_type": "code",
   "execution_count": null,
   "id": "c5368ce2",
   "metadata": {
    "vscode": {
     "languageId": "plaintext"
    }
   },
   "outputs": [],
   "source": [
    "cd frontend\n",
    "npm start"
   ]
  },
  {
   "cell_type": "markdown",
   "id": "b56dab4f",
   "metadata": {},
   "source": [
    "Étape 5 : Tester et Déployer\n",
    "Accédez à l'interface utilisateur via votre navigateur à l'adresse : http://localhost:3000."
   ]
  },
  {
   "cell_type": "markdown",
   "id": "ecb682e9",
   "metadata": {},
   "source": [
    "\n",
    "Saisissez les informations sur le logement et cliquez sur \"Predict Price\".\n",
    "\n",
    "Le prix prédit apparaîtra après un bref traitement."
   ]
  },
  {
   "cell_type": "markdown",
   "id": "e28a5ffa",
   "metadata": {},
   "source": [
    "\n",
    "Étape 6 : Déployer l’application\n",
    "Pour un déploiement, vous pouvez utiliser :\n",
    "\n",
    "Backend : Heroku ou AWS\n",
    "\n",
    "Frontend : Vercel ou Netlify"
   ]
  }
 ],
 "metadata": {
  "language_info": {
   "name": "python"
  }
 },
 "nbformat": 4,
 "nbformat_minor": 5
}
