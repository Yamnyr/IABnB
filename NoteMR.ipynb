{
 "cells": [
  {
   "cell_type": "markdown",
   "id": "9f083af0",
   "metadata": {},
   "source": [
    "Voici un guide étape par étape pour créer une application web complète qui affiche et prédit les prix des logements Airbnb. Nous allons utiliser Python (Flask) pour le backend et le frontend (React) que je vous ai fourni précédemment."
   ]
  },
  {
   "cell_type": "markdown",
   "id": "34250254",
   "metadata": {},
   "source": [
    "\n",
    "Étape 1 : Configuration de l’environnement\n",
    "Installer les outils nécessaires :\n",
    "\n",
    "Python 3.x\n",
    "\n",
    "Node.js (pour React)\n",
    "\n",
    "pip (Python package manager)\n",
    "\n"
   ]
  },
  {
   "cell_type": "markdown",
   "id": "544005d2",
   "metadata": {},
   "source": [
    "Installer les bibliothèques Python :"
   ]
  },
  {
   "cell_type": "code",
   "execution_count": 1,
   "id": "e83819d3",
   "metadata": {},
   "outputs": [
    {
     "name": "stdout",
     "output_type": "stream",
     "text": [
      "Collecting flask\n",
      "  Downloading flask-3.1.1-py3-none-any.whl.metadata (3.0 kB)\n",
      "Collecting flask-cors\n",
      "  Downloading flask_cors-6.0.1-py3-none-any.whl.metadata (5.3 kB)\n",
      "Requirement already satisfied: scikit-learn in c:\\users\\coren\\appdata\\local\\programs\\python\\python312\\lib\\site-packages (1.7.0)\n",
      "Requirement already satisfied: pandas in c:\\users\\coren\\appdata\\local\\programs\\python\\python312\\lib\\site-packages (2.2.3)\n",
      "Requirement already satisfied: blinker>=1.9.0 in c:\\users\\coren\\appdata\\local\\programs\\python\\python312\\lib\\site-packages (from flask) (1.9.0)\n",
      "Requirement already satisfied: click>=8.1.3 in c:\\users\\coren\\appdata\\local\\programs\\python\\python312\\lib\\site-packages (from flask) (8.1.8)\n",
      "Collecting itsdangerous>=2.2.0 (from flask)\n",
      "  Using cached itsdangerous-2.2.0-py3-none-any.whl.metadata (1.9 kB)\n",
      "Requirement already satisfied: jinja2>=3.1.2 in c:\\users\\coren\\appdata\\local\\programs\\python\\python312\\lib\\site-packages (from flask) (3.1.5)\n",
      "Requirement already satisfied: markupsafe>=2.1.1 in c:\\users\\coren\\appdata\\local\\programs\\python\\python312\\lib\\site-packages (from flask) (3.0.2)\n",
      "Collecting werkzeug>=3.1.0 (from flask)\n",
      "  Using cached werkzeug-3.1.3-py3-none-any.whl.metadata (3.7 kB)\n",
      "Requirement already satisfied: numpy>=1.22.0 in c:\\users\\coren\\appdata\\local\\programs\\python\\python312\\lib\\site-packages (from scikit-learn) (2.2.2)\n",
      "Requirement already satisfied: scipy>=1.8.0 in c:\\users\\coren\\appdata\\local\\programs\\python\\python312\\lib\\site-packages (from scikit-learn) (1.15.3)\n",
      "Requirement already satisfied: joblib>=1.2.0 in c:\\users\\coren\\appdata\\local\\programs\\python\\python312\\lib\\site-packages (from scikit-learn) (1.5.1)\n",
      "Requirement already satisfied: threadpoolctl>=3.1.0 in c:\\users\\coren\\appdata\\local\\programs\\python\\python312\\lib\\site-packages (from scikit-learn) (3.6.0)\n",
      "Requirement already satisfied: python-dateutil>=2.8.2 in c:\\users\\coren\\appdata\\local\\programs\\python\\python312\\lib\\site-packages (from pandas) (2.9.0.post0)\n",
      "Requirement already satisfied: pytz>=2020.1 in c:\\users\\coren\\appdata\\local\\programs\\python\\python312\\lib\\site-packages (from pandas) (2025.1)\n",
      "Requirement already satisfied: tzdata>=2022.7 in c:\\users\\coren\\appdata\\local\\programs\\python\\python312\\lib\\site-packages (from pandas) (2025.1)\n",
      "Requirement already satisfied: colorama in c:\\users\\coren\\appdata\\local\\programs\\python\\python312\\lib\\site-packages (from click>=8.1.3->flask) (0.4.6)\n",
      "Requirement already satisfied: six>=1.5 in c:\\users\\coren\\appdata\\local\\programs\\python\\python312\\lib\\site-packages (from python-dateutil>=2.8.2->pandas) (1.17.0)\n",
      "Downloading flask-3.1.1-py3-none-any.whl (103 kB)\n",
      "Downloading flask_cors-6.0.1-py3-none-any.whl (13 kB)\n",
      "Using cached itsdangerous-2.2.0-py3-none-any.whl (16 kB)\n",
      "Using cached werkzeug-3.1.3-py3-none-any.whl (224 kB)\n",
      "Installing collected packages: werkzeug, itsdangerous, flask, flask-cors\n",
      "\n",
      "   ---------------------------------------- 0/4 [werkzeug]\n",
      "   ---------------------------------------- 0/4 [werkzeug]\n",
      "   ---------------------------------------- 0/4 [werkzeug]\n",
      "   ---------------------------------------- 0/4 [werkzeug]\n",
      "   ---------------------------------------- 0/4 [werkzeug]\n",
      "   ---------- ----------------------------- 1/4 [itsdangerous]\n",
      "   -------------------- ------------------- 2/4 [flask]\n",
      "   -------------------- ------------------- 2/4 [flask]\n",
      "   -------------------- ------------------- 2/4 [flask]\n",
      "   ---------------------------------------- 4/4 [flask-cors]\n",
      "\n",
      "Successfully installed flask-3.1.1 flask-cors-6.0.1 itsdangerous-2.2.0 werkzeug-3.1.3\n",
      "Note: you may need to restart the kernel to use updated packages.\n"
     ]
    }
   ],
   "source": [
    "pip install flask flask-cors scikit-learn pandas"
   ]
  },
  {
   "cell_type": "markdown",
   "id": "1b0b75f1",
   "metadata": {},
   "source": [
    "Créer la structure de projet :"
   ]
  },
  {
   "cell_type": "code",
   "execution_count": null,
   "id": "09fda5ae",
   "metadata": {},
   "outputs": [],
   "source": [
    "project/\n",
    "├── backend/\n",
    "│   ├── app.py\n",
    "│   ├── model.pkl\n",
    "├── frontend/\n",
    "│   ├── public/\n",
    "│   ├── src/\n",
    "│   │   ├── components/\n",
    "│   │   │   ├── AirbnbPricePrediction.js\n",
    "│   │   ├── App.js\n",
    "│   │   ├── index.js\n",
    "├── README.md"
   ]
  },
  {
   "cell_type": "markdown",
   "id": "dc719053",
   "metadata": {},
   "source": [
    "Étape 2 : Créer le Backend avec Flask\n",
    "Fichier : backend/app.py\n",
    "Ce script gère la logique pour prédire les prix."
   ]
  },
  {
   "cell_type": "code",
   "execution_count": 2,
   "id": "e92cfa58",
   "metadata": {},
   "outputs": [
    {
     "name": "stdout",
     "output_type": "stream",
     "text": [
      " * Serving Flask app '__main__'\n",
      " * Debug mode: on\n"
     ]
    },
    {
     "name": "stderr",
     "output_type": "stream",
     "text": [
      "WARNING: This is a development server. Do not use it in a production deployment. Use a production WSGI server instead.\n",
      " * Running on http://127.0.0.1:5000\n",
      "Press CTRL+C to quit\n",
      " * Restarting with watchdog (windowsapi)\n"
     ]
    },
    {
     "ename": "SystemExit",
     "evalue": "1",
     "output_type": "error",
     "traceback": [
      "An exception has occurred, use %tb to see the full traceback.\n",
      "\u001b[31mSystemExit\u001b[39m\u001b[31m:\u001b[39m 1\n"
     ]
    },
    {
     "name": "stderr",
     "output_type": "stream",
     "text": [
      "C:\\Users\\coren\\AppData\\Roaming\\Python\\Python312\\site-packages\\IPython\\core\\interactiveshell.py:3680: UserWarning: To exit: use 'exit', 'quit', or Ctrl-D.\n",
      "  warn(\"To exit: use 'exit', 'quit', or Ctrl-D.\", stacklevel=1)\n"
     ]
    }
   ],
   "source": [
    "from flask import Flask, request, jsonify\n",
    "from flask_cors import CORS\n",
    "import pandas as pd\n",
    "import pickle\n",
    "\n",
    "app = Flask(__name__)\n",
    "CORS(app)\n",
    "\n",
    "# Charger le modèle\n",
    "try:\n",
    "    with open(\"model.pkl\", \"rb\") as f:\n",
    "        model = pickle.load(f)\n",
    "except FileNotFoundError:\n",
    "    model = None\n",
    "\n",
    "@app.route(\"/predict\", methods=[\"POST\"])\n",
    "def predict():\n",
    "    data = request.json\n",
    "    location = data.get(\"location\", \"\")\n",
    "    size = data.get(\"size\", 0)\n",
    "    bedrooms = data.get(\"bedrooms\", 0)\n",
    "    amenities = data.get(\"amenities\", \"\").split(\",\")\n",
    "    \n",
    "    # Convertir les données en format modèle\n",
    "    size = float(size)\n",
    "    bedrooms = int(bedrooms)\n",
    "    amenities_count = len(amenities)\n",
    "    \n",
    "    # Simple mock model logic (replace with real model prediction)\n",
    "    price = 50 + size * 10 + bedrooms * 20 + amenities_count * 5\n",
    "\n",
    "    return jsonify({\"predicted_price\": price})\n",
    "\n",
    "if __name__ == \"__main__\":\n",
    "    app.run(debug=True)\n"
   ]
  },
  {
   "cell_type": "markdown",
   "id": "85069731",
   "metadata": {},
   "source": [
    "Étape 3 : Modèle de machine learning (facultatif)\n",
    "Si vous avez un modèle entraîné pour prédire les prix, vous pouvez le charger à partir d’un fichier model.pkl et remplacer la logique dans /predict par une prédiction réelle."
   ]
  },
  {
   "cell_type": "markdown",
   "id": "7dbfb0dc",
   "metadata": {},
   "source": [
    "Code pour entraîner un modèle simple :"
   ]
  },
  {
   "cell_type": "code",
   "execution_count": null,
   "id": "2d6d77dc",
   "metadata": {},
   "outputs": [],
   "source": [
    "import pickle\n",
    "from sklearn.linear_model import LinearRegression\n",
    "import pandas as pd\n",
    "\n",
    "# Exemple de données d'entraînement\n",
    "data = pd.DataFrame({\n",
    "    \"size\": [500, 700, 900],\n",
    "    \"bedrooms\": [1, 2, 3],\n",
    "    \"amenities_count\": [5, 8, 10],\n",
    "    \"price\": [100, 150, 200],\n",
    "})\n",
    "\n",
    "X = data[[\"size\", \"bedrooms\", \"amenities_count\"]]\n",
    "y = data[\"price\"]\n",
    "\n",
    "model = LinearRegression()\n",
    "model.fit(X, y)\n",
    "\n",
    "# Sauvegarder le modèle\n",
    "with open(\"model.pkl\", \"wb\") as f:\n",
    "    pickle.dump(model, f)"
   ]
  },
  {
   "cell_type": "markdown",
   "id": "336928d2",
   "metadata": {},
   "source": [
    "Étape 4 : Connecter le Backend et le Frontend\n",
    "Modifier le fichier React pour envoyer des requêtes :"
   ]
  },
  {
   "cell_type": "markdown",
   "id": "1b582bc6",
   "metadata": {},
   "source": [
    "Dans AirbnbPricePrediction.js, ajoutez l’appel à l’API Flask :"
   ]
  },
  {
   "cell_type": "code",
   "execution_count": null,
   "id": "633e35bd",
   "metadata": {},
   "outputs": [],
   "source": [
    "\n",
    "const predictPrice = async () => {\n",
    "    const response = await fetch(\"http://127.0.0.1:5000/predict\", {\n",
    "        method: \"POST\",\n",
    "        headers: {\n",
    "            \"Content-Type\": \"application/json\",\n",
    "        },\n",
    "        body: JSON.stringify({\n",
    "            location: formData.location,\n",
    "            size: formData.size,\n",
    "            bedrooms: formData.bedrooms,\n",
    "            amenities: formData.amenities,\n",
    "        }),\n",
    "    });\n",
    "    const data = await response.json();\n",
    "    setFormData((prev) => ({\n",
    "        ...prev,\n",
    "        predictedPrice: `$${data.predicted_price.toFixed(2)}`,\n",
    "    }));\n",
    "};"
   ]
  },
  {
   "cell_type": "markdown",
   "id": "ada60686",
   "metadata": {},
   "source": [
    "Démarrer le serveur Flask :"
   ]
  },
  {
   "cell_type": "code",
   "execution_count": null,
   "id": "82029288",
   "metadata": {},
   "outputs": [],
   "source": [
    "cd backend\n",
    "python app.py"
   ]
  },
  {
   "cell_type": "markdown",
   "id": "4ad3313a",
   "metadata": {},
   "source": [
    "Démarrer le serveur React :"
   ]
  },
  {
   "cell_type": "code",
   "execution_count": null,
   "id": "c5368ce2",
   "metadata": {},
   "outputs": [],
   "source": [
    "cd frontend\n",
    "npm start"
   ]
  },
  {
   "cell_type": "markdown",
   "id": "b56dab4f",
   "metadata": {},
   "source": [
    "Étape 5 : Tester et Déployer\n",
    "Accédez à l'interface utilisateur via votre navigateur à l'adresse : http://localhost:3000."
   ]
  },
  {
   "cell_type": "markdown",
   "id": "ecb682e9",
   "metadata": {},
   "source": [
    "\n",
    "Saisissez les informations sur le logement et cliquez sur \"Predict Price\".\n",
    "\n",
    "Le prix prédit apparaîtra après un bref traitement."
   ]
  },
  {
   "cell_type": "markdown",
   "id": "e28a5ffa",
   "metadata": {},
   "source": [
    "\n",
    "Étape 6 : Déployer l’application\n",
    "Pour un déploiement, vous pouvez utiliser :\n",
    "\n",
    "Backend : Heroku ou AWS\n",
    "\n",
    "Frontend : Vercel ou Netlify"
   ]
  }
 ],
 "metadata": {
  "kernelspec": {
   "display_name": "Python 3",
   "language": "python",
   "name": "python3"
  },
  "language_info": {
   "codemirror_mode": {
    "name": "ipython",
    "version": 3
   },
   "file_extension": ".py",
   "mimetype": "text/x-python",
   "name": "python",
   "nbconvert_exporter": "python",
   "pygments_lexer": "ipython3",
   "version": "3.12.6"
  }
 },
 "nbformat": 4,
 "nbformat_minor": 5
}
